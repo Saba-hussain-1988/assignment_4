{
  "cells": [
    {
      "cell_type": "code",
      "execution_count": null,
      "metadata": {
        "colab": {
          "base_uri": "https://localhost:8080/"
        },
        "id": "umdRwoAlpJiZ",
        "outputId": "294a45d1-502e-4da5-fc3c-4ec4a8574206"
      },
      "outputs": [
        {
          "name": "stdout",
          "output_type": "stream",
          "text": [
            "This program operates multiple Arithematic operators on two operands given by user.\n",
            "Enter first number: 4\n",
            "Enter second number: 3\n",
            "Addition of 4.0 + 3.0 is: \n",
            "\t7.0.\n",
            "Subtraction of 4.0 - 3.0 is: \n",
            "\t1.0.\n",
            "Multiplication of 4.0 X 3.0 is: \n",
            "\t12.0.\n",
            "Division of 4.0 / 3.0 is: \n",
            "\t1.3333333333333333.\n"
          ]
        }
      ],
      "source": [
        "# Write a Python program that takes two integer inputs from the user and calculates their sum. The program should perform the following tasks:\n",
        "\n",
        "# Additional Activity\n",
        "\n",
        "# I'm using multiple Arithmetic operators in this program, like subtraction, multiplication, division,\n",
        "# and converting into float type from input.\n",
        "\n",
        "def main():\n",
        "  print(\"This program operates multiple Arithmetic operators on two operands given by user.\")\n",
        "  num_1 = float(input(\"Enter first number: \"))\n",
        "  num_2 = float(input(\"Enter second number: \"))\n",
        "\n",
        "  print(f\"Addition of {num_1} + {num_2} is: \\n\\t{num_1 + num_2}.\")\n",
        "  print(f\"Subtraction of {num_1} - {num_2} is: \\n\\t{num_1 - num_2}.\")\n",
        "  print(f\"Multiplication of {num_1} X {num_2} is: \\n\\t{num_1 * num_2}.\")\n",
        "  print(f\"Division of {num_1} / {num_2} is: \\n\\t{num_1 / num_2}.\")\n",
        "\n",
        "if __name__ == '__main__':\n",
        "  main()\n"
      ]
    }
  ],
  "metadata": {
    "colab": {
      "provenance": []
    },
    "kernelspec": {
      "display_name": "Python 3",
      "name": "python3"
    },
    "language_info": {
      "name": "python"
    }
  },
  "nbformat": 4,
  "nbformat_minor": 0
}
